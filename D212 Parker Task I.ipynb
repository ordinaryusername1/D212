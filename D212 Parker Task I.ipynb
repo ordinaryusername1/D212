{
 "cells": [
  {
   "cell_type": "markdown",
   "id": "b0a5be32",
   "metadata": {},
   "source": [
    "# Part I: Research Question"
   ]
  },
  {
   "cell_type": "markdown",
   "id": "39c94a0b",
   "metadata": {},
   "source": [
    "### A.  Describe the purpose of your data mining report by doing the following:"
   ]
  },
  {
   "cell_type": "markdown",
   "id": "02d4dbbe",
   "metadata": {},
   "source": [
    "#### 1.  Propose one question relevant to a real-world organizational situation that you will answer using one of the following clustering techniques:\n",
    "\n",
    "* k-means, using only continuous variables\n",
    "* hierarchical"
   ]
  },
  {
   "cell_type": "markdown",
   "id": "77324aa2",
   "metadata": {},
   "source": [
    "#### 2.  Define one goal of the data analysis. Ensure your goal is reasonable within the scope of the selected scenario and is represented in the available data."
   ]
  },
  {
   "cell_type": "markdown",
   "id": "99591041",
   "metadata": {},
   "source": [
    "# Part II: Technique Justification"
   ]
  },
  {
   "cell_type": "markdown",
   "id": "ca0adb1d",
   "metadata": {},
   "source": [
    "### B.  Explain the reasons for your chosen clustering technique from part A1 by doing the following:"
   ]
  },
  {
   "cell_type": "markdown",
   "id": "5340f1a3",
   "metadata": {},
   "source": [
    "#### 1.  Explain how the clustering technique you chose analyzes the selected data set. Include expected outcomes."
   ]
  },
  {
   "cell_type": "markdown",
   "id": "602b33c0",
   "metadata": {},
   "source": []
  },
  {
   "cell_type": "markdown",
   "id": "6678065e",
   "metadata": {},
   "source": [
    "#### 2.  Summarize one assumption of the clustering technique."
   ]
  },
  {
   "cell_type": "markdown",
   "id": "ad004b22",
   "metadata": {},
   "source": []
  },
  {
   "cell_type": "markdown",
   "id": "89c7a193",
   "metadata": {},
   "source": [
    "#### 3.  List the packages or libraries you have chosen for Python or R, and justify how each item on the list supports the analysis."
   ]
  },
  {
   "cell_type": "markdown",
   "id": "6155fb1f",
   "metadata": {},
   "source": []
  },
  {
   "cell_type": "markdown",
   "id": "9b329f66",
   "metadata": {},
   "source": [
    "# Part III: Data Preparation"
   ]
  },
  {
   "cell_type": "markdown",
   "id": "4ed15c43",
   "metadata": {},
   "source": [
    "### C.  Perform data preparation for the chosen data set by doing the following:"
   ]
  },
  {
   "cell_type": "markdown",
   "id": "bb07fc42",
   "metadata": {},
   "source": [
    "#### 1.  Describe one data preprocessing goal relevant to the clustering technique from part A1."
   ]
  },
  {
   "cell_type": "code",
   "execution_count": null,
   "id": "3bdb9b1a",
   "metadata": {},
   "outputs": [],
   "source": []
  },
  {
   "cell_type": "markdown",
   "id": "0ffa37f7",
   "metadata": {},
   "source": [
    "#### 2.  Identify the initial data set variables you will use to perform the analysis for the clustering question from part A1, and label each as continuous or categorical."
   ]
  },
  {
   "cell_type": "markdown",
   "id": "7582b8fe",
   "metadata": {},
   "source": []
  },
  {
   "cell_type": "markdown",
   "id": "1f0c3832",
   "metadata": {},
   "source": [
    "#### 3.  Explain each of the steps used to prepare the data for the analysis. Identify the code segment for each step."
   ]
  },
  {
   "cell_type": "markdown",
   "id": "9bf6eabf",
   "metadata": {},
   "source": []
  },
  {
   "cell_type": "markdown",
   "id": "a9a44552",
   "metadata": {},
   "source": [
    "#### 4.  Provide a copy of the cleaned data set."
   ]
  },
  {
   "cell_type": "markdown",
   "id": "ed24358c",
   "metadata": {},
   "source": []
  },
  {
   "cell_type": "markdown",
   "id": "353f2597",
   "metadata": {},
   "source": [
    "# Part IV: Analysis"
   ]
  },
  {
   "cell_type": "markdown",
   "id": "e2bcac3e",
   "metadata": {},
   "source": [
    "### D.  Perform the data analysis, and report on the results by doing the following:"
   ]
  },
  {
   "cell_type": "markdown",
   "id": "ac46ed1b",
   "metadata": {},
   "source": [
    "#### 1.  Determine the optimal number of clusters in the data set, and describe the method used to determine this number."
   ]
  },
  {
   "cell_type": "markdown",
   "id": "9c2e086c",
   "metadata": {},
   "source": []
  },
  {
   "cell_type": "markdown",
   "id": "c1fefeaf",
   "metadata": {},
   "source": [
    "#### 2.  Provide the code used to perform the clustering analysis technique."
   ]
  },
  {
   "cell_type": "markdown",
   "id": "09474786",
   "metadata": {},
   "source": []
  },
  {
   "cell_type": "markdown",
   "id": "3373e79c",
   "metadata": {},
   "source": [
    "# Part V: Data Summary and Implications"
   ]
  },
  {
   "cell_type": "markdown",
   "id": "bc3d15c4",
   "metadata": {},
   "source": [
    "### E.  Summarize your data analysis by doing the following:"
   ]
  },
  {
   "cell_type": "markdown",
   "id": "c83cfda6",
   "metadata": {},
   "source": [
    "#### 1.  Explain the quality of the clusters created."
   ]
  },
  {
   "cell_type": "markdown",
   "id": "68369221",
   "metadata": {},
   "source": []
  },
  {
   "cell_type": "markdown",
   "id": "05b26223",
   "metadata": {},
   "source": [
    "#### 2.  Discuss the results and implications of your clustering analysis."
   ]
  },
  {
   "cell_type": "markdown",
   "id": "d4ee8bb8",
   "metadata": {},
   "source": []
  },
  {
   "cell_type": "markdown",
   "id": "92530d64",
   "metadata": {},
   "source": [
    "#### 3.  Discuss one limitation of your data analysis."
   ]
  },
  {
   "cell_type": "markdown",
   "id": "a2a92c94",
   "metadata": {},
   "source": []
  },
  {
   "cell_type": "markdown",
   "id": "9065e14c",
   "metadata": {},
   "source": [
    "#### 4.  Recommend a course of action for the real-world organizational situation from part A1 based on the results and implications discussed in part E2."
   ]
  },
  {
   "cell_type": "markdown",
   "id": "1c8f56f9",
   "metadata": {},
   "source": []
  },
  {
   "cell_type": "markdown",
   "id": "e75a8433",
   "metadata": {},
   "source": [
    "# Part VI: Demonstration"
   ]
  },
  {
   "cell_type": "markdown",
   "id": "71d6041a",
   "metadata": {},
   "source": [
    "### F.  Provide a Panopto video recording that includes the presenter and a vocalized demonstration showing all code used, the code being executed, and the results of all code used in the task."
   ]
  },
  {
   "cell_type": "markdown",
   "id": "01b1c0b1",
   "metadata": {},
   "source": []
  },
  {
   "cell_type": "markdown",
   "id": "77a911f2",
   "metadata": {},
   "source": [
    "# G.  Record the web sources you used to acquire data or segments of third-party code to support the analysis. Ensure the web sources are reliable."
   ]
  },
  {
   "cell_type": "markdown",
   "id": "57466173",
   "metadata": {},
   "source": []
  },
  {
   "cell_type": "markdown",
   "id": "4642e2cf",
   "metadata": {},
   "source": [
    "# H.  Acknowledge sources, using in-text citations and references, for content that is quoted, paraphrased, or summarized."
   ]
  }
 ],
 "metadata": {
  "kernelspec": {
   "display_name": "Python 3 (ipykernel)",
   "language": "python",
   "name": "python3"
  },
  "language_info": {
   "codemirror_mode": {
    "name": "ipython",
    "version": 3
   },
   "file_extension": ".py",
   "mimetype": "text/x-python",
   "name": "python",
   "nbconvert_exporter": "python",
   "pygments_lexer": "ipython3",
   "version": "3.9.17"
  }
 },
 "nbformat": 4,
 "nbformat_minor": 5
}
